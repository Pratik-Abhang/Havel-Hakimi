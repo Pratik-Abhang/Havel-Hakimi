{
 "cells": [
  {
   "cell_type": "code",
   "execution_count": 3,
   "id": "24f0446a",
   "metadata": {},
   "outputs": [
    {
     "name": "stdout",
     "output_type": "stream",
     "text": [
      "Given sequence is not graphical\n"
     ]
    }
   ],
   "source": [
    "import networkx as nx\n",
    "import matplotlib.pyplot as plt\n",
    "\n",
    "def HHA(deg_seq):\n",
    "    if not deg_seq:\n",
    "        print(\"Sequence is empty\")\n",
    "        return False\n",
    "    deg_seq = sorted(deg_seq, reverse=True)\n",
    "    s = sum(deg_seq)\n",
    "    if s % 2 != 0:\n",
    "        print(\"Given sequence is not graphical\")\n",
    "        return False\n",
    "    while True:        \n",
    "        if deg_seq[0] < 0 or deg_seq[0] >= len(deg_seq):\n",
    "            print(\"Given sequence is not graphical\")\n",
    "            return False\n",
    "        if all(d == 0 for d in deg_seq):\n",
    "            print(\"Given sequence is graphical\")\n",
    "            #print(deg_seq)\n",
    "            return True\n",
    "        for i in range(1, deg_seq[0] + 1):\n",
    "            deg_seq[i] -= 1\n",
    "        deg_seq.pop(0)\n",
    "        deg_seq = sorted(deg_seq, reverse=True)\n",
    "\n",
    "def plot_graph(deg_seq):\n",
    "    if HHA(deg_seq):\n",
    "        G = nx.random_degree_sequence_graph(deg_seq)\n",
    "        nx.draw(G, with_labels=True, node_color='purple', node_size=500, font_size=10)\n",
    "        plt.show()\n",
    "\n",
    "# Example usage\n",
    "seq = [3,2,1]\n",
    "plot_graph(seq)\n"
   ]
  },
  {
   "cell_type": "code",
   "execution_count": null,
   "id": "3d0c3a05",
   "metadata": {},
   "outputs": [],
   "source": [
    "\n"
   ]
  },
  {
   "cell_type": "markdown",
   "id": "3e62a817",
   "metadata": {},
   "source": [
    " "
   ]
  }
 ],
 "metadata": {
  "kernelspec": {
   "display_name": "Python 3 (ipykernel)",
   "language": "python",
   "name": "python3"
  },
  "language_info": {
   "codemirror_mode": {
    "name": "ipython",
    "version": 3
   },
   "file_extension": ".py",
   "mimetype": "text/x-python",
   "name": "python",
   "nbconvert_exporter": "python",
   "pygments_lexer": "ipython3",
   "version": "3.11.4"
  }
 },
 "nbformat": 4,
 "nbformat_minor": 5
}
